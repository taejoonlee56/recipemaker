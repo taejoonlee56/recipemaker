{
 "cells": [
  {
   "cell_type": "markdown",
   "metadata": {},
   "source": [
    "### Check Error"
   ]
  },
  {
   "cell_type": "code",
   "execution_count": 1,
   "metadata": {},
   "outputs": [
    {
     "name": "stderr",
     "output_type": "stream",
     "text": [
      "Processing lines: 100%|██████████| 6705/6705 [00:03<00:00, 2033.19it/s]"
     ]
    },
    {
     "name": "stdout",
     "output_type": "stream",
     "text": [
      "Skipped rows: 0\n",
      "Filtered dataset saved to ./pure_recipes_data.csv\n"
     ]
    },
    {
     "name": "stderr",
     "output_type": "stream",
     "text": [
      "\n"
     ]
    }
   ],
   "source": [
    "import pandas as pd\n",
    "from io import StringIO\n",
    "from tqdm import tqdm\n",
    "\n",
    "def save_dataset_with_skip(data_file, output_file):\n",
    "    skipped_rows = 0\n",
    "    valid_rows = []\n",
    "\n",
    "    with open(data_file, \"r\", encoding=\"utf-8\") as file:\n",
    "        total_lines = sum(1 for _ in file)\n",
    "        file.seek(0)\n",
    "        for line in tqdm(file, total=total_lines, desc=\"Processing lines\"):\n",
    "            try:\n",
    "                row = pd.read_csv(StringIO(line), header=None)\n",
    "                valid_rows.append(line)\n",
    "            except pd.errors.ParserError:\n",
    "                skipped_rows += 1\n",
    "\n",
    "    print(f\"Skipped rows: {skipped_rows}\")\n",
    "\n",
    "    with open(output_file, \"w\", encoding=\"utf-8\") as out_file:\n",
    "        out_file.writelines(valid_rows)\n",
    "\n",
    "data_file = './recipes_data.csv'\n",
    "output_file = './pure_recipes_data.csv'\n",
    "save_dataset_with_skip(data_file, output_file)\n",
    "print(f\"Filtered dataset saved to {output_file}\")"
   ]
  },
  {
   "cell_type": "markdown",
   "metadata": {},
   "source": [
    "## Make dataset"
   ]
  },
  {
   "cell_type": "code",
   "execution_count": 1,
   "metadata": {},
   "outputs": [],
   "source": [
    "\n",
    "import pandas as pd\n",
    "\n",
    "df = pd.read_csv('pure_recipes_data.csv')\n",
    "df = df.head(20)\n",
    "\n",
    "df.rename(columns={\n",
    "    'prep_time (in mins)': 'prep_time_in_mins',\n",
    "    'cook_time (in mins)': 'cook_time_in_mins',\n",
    "}, inplace=True)\n",
    "\n",
    "df['ingredients_name'] = df['ingredients_name'].fillna('')\n",
    "df['ingredients_quantity'] = df['ingredients_quantity'].fillna('')\n",
    "\n",
    "\n",
    "df['instruction'] = df['ingredients_name'].apply(lambda x: f'I have the following ingredients: {x}. Please provide recipes I can make with them.')\n",
    "\n",
    "def format_output(row):\n",
    "    output = f\"Recipe Name: {row['name']}\\n\"\n",
    "    output += f\"Cuisine: {row['cuisine']}\\n\"\n",
    "    output += f\"Course: {row['course']}\\n\"\n",
    "    output += f\"Diet: {row['diet']}\\n\"\n",
    "    output += \"Ingredients:\\n\"\n",
    "\n",
    "    ingredient_names = row['ingredients_name'].split(',')\n",
    "    ingredient_quantities = row['ingredients_quantity'].split(',')\n",
    "\n",
    "    for name, qty in zip(ingredient_names, ingredient_quantities):\n",
    "        output += f\"- {name.strip()}: {qty.strip()}\\n\"\n",
    "\n",
    "    output += f\"Instructions:\\n{row['instructions']}\\n\"\n",
    "    return output\n",
    "\n",
    "df['output'] = df.apply(format_output, axis=1)\n",
    "\n",
    "df['input'] = ''\n",
    "\n",
    "df = df[['instruction', 'input', 'output']]\n",
    "\n",
    "df.to_csv('test_processed_dataset.csv', index=False)\n"
   ]
  },
  {
   "cell_type": "code",
   "execution_count": 1,
   "metadata": {},
   "outputs": [
    {
     "data": {
      "text/plain": [
       "6704"
      ]
     },
     "execution_count": 1,
     "metadata": {},
     "output_type": "execute_result"
    }
   ],
   "source": [
    "import pandas as pd\n",
    "# 데이터 로드\n",
    "df = pd.read_csv('processed_dataset.csv')\n",
    "len(df)"
   ]
  },
  {
   "cell_type": "code",
   "execution_count": 31,
   "metadata": {},
   "outputs": [],
   "source": [
    "import re\n",
    "\n",
    "df_new = pd.DataFrame()\n",
    "\n",
    "# NER, directions 컬럼에서 대괄호 모두 제거\n",
    "df['NER'] = df['NER'].str.replace('[', '')\n",
    "df['NER'] = df['NER'].str.replace(']', '')\n",
    "df['NER'] = df['NER'].str.replace('\"', '')\n",
    "# 정규 표현식을 사용하여 모든 종류의 쌍따옴표 제거\n",
    "df['directions'] = df['directions'].apply(lambda x: re.sub(r'[\"\\\"\"\"]', '', str(x)))\n",
    "# 대괄호 제거\n",
    "df['directions'] = df['directions'].str.replace('[', '').str.replace(']', '')\n",
    "\n",
    "\n",
    "# 정규 표현식을 사용하여 모든 종류의 쌍따옴표 제거\n",
    "df['ingredients'] = df['ingredients'].apply(lambda x: re.sub(r'[\"\\\"\"\"]', '', str(x)))\n",
    "# 대괄호 제거\n",
    "df['ingredients'] = df['ingredients'].str.replace('[', '').str.replace(']', '')\n",
    "\n",
    "\n",
    "df_new['instruction'] = df['NER'].apply(lambda x: f'I have the following ingredients: {x}. Please provide recipes I can make with them.')\n",
    "# input열은 빈칸\n",
    "df_new['input'] = ''\n",
    "\n",
    "# df['output] 만들기\n",
    "def format_output(row):\n",
    "    output = f\"Recipe Name: {row['title']}\\n\"\n",
    "    output += \"Ingredients:\\n\"\n",
    "\n",
    "    # ingredients 컬럼에서 리스트 안 요소들 하나씩 추가하기\n",
    "    ingredients = row['ingredients'].split(',')\n",
    "    for ingredient in ingredients:\n",
    "        output += f\"- {ingredient.strip()}\\n\"\n",
    "\n",
    "\n",
    "    output += f\"Instructions:\\n{row['directions']}\\n\"\n",
    "    return output\n",
    "\n",
    "df_new['output'] = df.apply(format_output, axis=1)\n",
    "\n",
    "# df_new = df_new.head(20)\n",
    "df_new.to_csv('2m_processed_dataset.csv', index=False)\n"
   ]
  },
  {
   "cell_type": "code",
   "execution_count": 11,
   "metadata": {},
   "outputs": [
    {
     "data": {
      "text/html": [
       "<div>\n",
       "<style scoped>\n",
       "    .dataframe tbody tr th:only-of-type {\n",
       "        vertical-align: middle;\n",
       "    }\n",
       "\n",
       "    .dataframe tbody tr th {\n",
       "        vertical-align: top;\n",
       "    }\n",
       "\n",
       "    .dataframe thead th {\n",
       "        text-align: right;\n",
       "    }\n",
       "</style>\n",
       "<table border=\"1\" class=\"dataframe\">\n",
       "  <thead>\n",
       "    <tr style=\"text-align: right;\">\n",
       "      <th></th>\n",
       "      <th>instruction</th>\n",
       "      <th>input</th>\n",
       "      <th>output</th>\n",
       "    </tr>\n",
       "  </thead>\n",
       "  <tbody>\n",
       "    <tr>\n",
       "      <th>0</th>\n",
       "      <td>I have the following ingredients: [\"bite size ...</td>\n",
       "      <td></td>\n",
       "      <td>[\"In a heavy 2-quart saucepan, mix brown sugar...</td>\n",
       "    </tr>\n",
       "  </tbody>\n",
       "</table>\n",
       "</div>"
      ],
      "text/plain": [
       "                                         instruction input  \\\n",
       "0  I have the following ingredients: [\"bite size ...         \n",
       "\n",
       "                                              output  \n",
       "0  [\"In a heavy 2-quart saucepan, mix brown sugar...  "
      ]
     },
     "execution_count": 11,
     "metadata": {},
     "output_type": "execute_result"
    }
   ],
   "source": [
    "df_new.head(1)"
   ]
  },
  {
   "cell_type": "code",
   "execution_count": null,
   "metadata": {},
   "outputs": [],
   "source": []
  }
 ],
 "metadata": {
  "kernelspec": {
   "display_name": "unsloth_env",
   "language": "python",
   "name": "python3"
  },
  "language_info": {
   "codemirror_mode": {
    "name": "ipython",
    "version": 3
   },
   "file_extension": ".py",
   "mimetype": "text/x-python",
   "name": "python",
   "nbconvert_exporter": "python",
   "pygments_lexer": "ipython3",
   "version": "3.11.10"
  }
 },
 "nbformat": 4,
 "nbformat_minor": 2
}
