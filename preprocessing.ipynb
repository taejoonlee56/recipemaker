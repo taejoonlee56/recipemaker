{
 "cells": [
  {
   "cell_type": "markdown",
   "metadata": {},
   "source": [
    "### Check Error"
   ]
  },
  {
   "cell_type": "code",
   "execution_count": 1,
   "metadata": {},
   "outputs": [
    {
     "name": "stderr",
     "output_type": "stream",
     "text": [
      "Processing lines: 100%|██████████| 6705/6705 [00:03<00:00, 2033.19it/s]"
     ]
    },
    {
     "name": "stdout",
     "output_type": "stream",
     "text": [
      "Skipped rows: 0\n",
      "Filtered dataset saved to ./pure_recipes_data.csv\n"
     ]
    },
    {
     "name": "stderr",
     "output_type": "stream",
     "text": [
      "\n"
     ]
    }
   ],
   "source": [
    "import pandas as pd\n",
    "from io import StringIO\n",
    "from tqdm import tqdm\n",
    "\n",
    "def save_dataset_with_skip(data_file, output_file):\n",
    "    skipped_rows = 0\n",
    "    valid_rows = []\n",
    "\n",
    "    with open(data_file, \"r\", encoding=\"utf-8\") as file:\n",
    "        total_lines = sum(1 for _ in file)\n",
    "        file.seek(0)\n",
    "        for line in tqdm(file, total=total_lines, desc=\"Processing lines\"):\n",
    "            try:\n",
    "                row = pd.read_csv(StringIO(line), header=None)\n",
    "                valid_rows.append(line)\n",
    "            except pd.errors.ParserError:\n",
    "                skipped_rows += 1\n",
    "\n",
    "    print(f\"Skipped rows: {skipped_rows}\")\n",
    "\n",
    "    with open(output_file, \"w\", encoding=\"utf-8\") as out_file:\n",
    "        out_file.writelines(valid_rows)\n",
    "\n",
    "data_file = './recipes_data.csv'\n",
    "output_file = './pure_recipes_data.csv'\n",
    "save_dataset_with_skip(data_file, output_file)\n",
    "print(f\"Filtered dataset saved to {output_file}\")"
   ]
  },
  {
   "cell_type": "markdown",
   "metadata": {},
   "source": [
    "## Make dataset"
   ]
  },
  {
   "cell_type": "code",
   "execution_count": 1,
   "metadata": {},
   "outputs": [],
   "source": [
    "\n",
    "import pandas as pd\n",
    "\n",
    "df = pd.read_csv('pure_recipes_data.csv')\n",
    "df = df.head(20) ## this is for test\n",
    "\n",
    "df.rename(columns={\n",
    "    'prep_time (in mins)': 'prep_time_in_mins',\n",
    "    'cook_time (in mins)': 'cook_time_in_mins',\n",
    "}, inplace=True)\n",
    "\n",
    "df['ingredients_name'] = df['ingredients_name'].fillna('')\n",
    "df['ingredients_quantity'] = df['ingredients_quantity'].fillna('')\n",
    "\n",
    "df['instruction'] = df['ingredients_name'].apply(lambda x: f'I have the following ingredients: {x}. Please provide recipes I can make with them.')\n",
    "\n",
    "\n",
    "def format_output(row):\n",
    "    output = f\"Recipe Name: {row['name']}\\n\"\n",
    "    output += f\"Cuisine: {row['cuisine']}\\n\"\n",
    "    output += f\"Course: {row['course']}\\n\"\n",
    "    output += f\"Diet: {row['diet']}\\n\"\n",
    "    output += \"Ingredients:\\n\"\n",
    "\n",
    "    ingredient_names = row['ingredients_name'].split(',')\n",
    "    ingredient_quantities = row['ingredients_quantity'].split(',')\n",
    "\n",
    "    for name, qty in zip(ingredient_names, ingredient_quantities):\n",
    "        output += f\"- {name.strip()}: {qty.strip()}\\n\"\n",
    "\n",
    "    output += f\"Preparation Time: {row['prep_time_in_mins']} mins\\n\"\n",
    "    output += f\"Cooking Time: {row['cook_time_in_mins']} mins\\n\"\n",
    "    output += f\"Instructions:\\n{row['instructions']}\\n\"\n",
    "    return output\n",
    "\n",
    "df['output'] = df.apply(format_output, axis=1)\n",
    "\n",
    "df['input'] = ''\n",
    "\n",
    "df = df[['instruction', 'input', 'output']]\n",
    "\n",
    "df.to_csv('processed_dataset.csv', index=False)\n"
   ]
  },
  {
   "cell_type": "code",
   "execution_count": 2,
   "metadata": {},
   "outputs": [
    {
     "data": {
      "text/plain": [
       "0     Recipe Name: Poosanikai Haddu Sweet Curry Reci...\n",
       "1     Recipe Name: Ayam Goreng Kremes Recipe - Indon...\n",
       "2     Recipe Name: One Pot Spinach Macaroni Pasta Re...\n",
       "3     Recipe Name: Dondakkai / Kovakkai Poriyal Reci...\n",
       "4     Recipe Name: Himachal Pahari Style Teliah Mah ...\n",
       "5     Recipe Name: Homemade Harissa Paste Recipe\\nCu...\n",
       "6     Recipe Name: Zucchini Paratha Recipe\\nCuisine:...\n",
       "7     Recipe Name: Whole Wheat Crepes With Roasted V...\n",
       "8     Recipe Name: Authentic Moong Dal Halwa Recipe:...\n",
       "9     Recipe Name: Schezwan Style Chinese Veg Samosa...\n",
       "10    Recipe Name: Goan Style Black Chickpeas And Cu...\n",
       "11    Recipe Name: Andhra Style Mutton Curry Recipe\\...\n",
       "12    Recipe Name: Beer Batter Prawns Recipe\\nCuisin...\n",
       "13    Recipe Name: Cantonese Style Chicken Chowmein ...\n",
       "14    Recipe Name: Authentic Sindhi Style Aloo Gobi ...\n",
       "15    Recipe Name: Wheat Berry Salad With Cranberrie...\n",
       "16    Recipe Name: Ellu Sadam Recipe - Sesame Rice\\n...\n",
       "17    Recipe Name: Authentic Kala Chana Masala Recip...\n",
       "18    Recipe Name: Coorg Mange Pajji Recipe - Delici...\n",
       "19    Recipe Name: Authentic Coorg Style Bollari Bar...\n",
       "Name: output, dtype: object"
      ]
     },
     "execution_count": 2,
     "metadata": {},
     "output_type": "execute_result"
    }
   ],
   "source": [
    "import pandas as pd\n",
    "# 데이터 로드\n",
    "df = pd.read_csv('processed_dataset.csv')\n",
    "\n",
    "# 데이터 개수 확인\n",
    "df['output']"
   ]
  },
  {
   "cell_type": "code",
   "execution_count": null,
   "metadata": {},
   "outputs": [],
   "source": []
  }
 ],
 "metadata": {
  "kernelspec": {
   "display_name": "unsloth_env",
   "language": "python",
   "name": "python3"
  },
  "language_info": {
   "codemirror_mode": {
    "name": "ipython",
    "version": 3
   },
   "file_extension": ".py",
   "mimetype": "text/x-python",
   "name": "python",
   "nbconvert_exporter": "python",
   "pygments_lexer": "ipython3",
   "version": "3.11.10"
  }
 },
 "nbformat": 4,
 "nbformat_minor": 2
}
