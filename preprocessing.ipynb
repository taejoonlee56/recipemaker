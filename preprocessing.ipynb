{
 "cells": [
  {
   "cell_type": "markdown",
   "metadata": {},
   "source": [
    "### Check Error"
   ]
  },
  {
   "cell_type": "code",
   "execution_count": 1,
   "metadata": {},
   "outputs": [
    {
     "name": "stderr",
     "output_type": "stream",
     "text": [
      "Processing lines: 100%|██████████| 6705/6705 [00:03<00:00, 2033.19it/s]"
     ]
    },
    {
     "name": "stdout",
     "output_type": "stream",
     "text": [
      "Skipped rows: 0\n",
      "Filtered dataset saved to ./pure_recipes_data.csv\n"
     ]
    },
    {
     "name": "stderr",
     "output_type": "stream",
     "text": [
      "\n"
     ]
    }
   ],
   "source": [
    "import pandas as pd\n",
    "from io import StringIO\n",
    "from tqdm import tqdm\n",
    "\n",
    "def save_dataset_with_skip(data_file, output_file):\n",
    "    skipped_rows = 0\n",
    "    valid_rows = []\n",
    "\n",
    "    with open(data_file, \"r\", encoding=\"utf-8\") as file:\n",
    "        total_lines = sum(1 for _ in file)\n",
    "        file.seek(0)\n",
    "        for line in tqdm(file, total=total_lines, desc=\"Processing lines\"):\n",
    "            try:\n",
    "                row = pd.read_csv(StringIO(line), header=None)\n",
    "                valid_rows.append(line)\n",
    "            except pd.errors.ParserError:\n",
    "                skipped_rows += 1\n",
    "\n",
    "    print(f\"Skipped rows: {skipped_rows}\")\n",
    "\n",
    "    with open(output_file, \"w\", encoding=\"utf-8\") as out_file:\n",
    "        out_file.writelines(valid_rows)\n",
    "\n",
    "data_file = './recipes_data.csv'\n",
    "output_file = './pure_recipes_data.csv'\n",
    "save_dataset_with_skip(data_file, output_file)\n",
    "print(f\"Filtered dataset saved to {output_file}\")"
   ]
  },
  {
   "cell_type": "markdown",
   "metadata": {},
   "source": [
    "## Make dataset"
   ]
  },
  {
   "cell_type": "code",
   "execution_count": 3,
   "metadata": {},
   "outputs": [],
   "source": [
    "\n",
    "import pandas as pd\n",
    "\n",
    "df = pd.read_csv('pure_recipes_data.csv')\n",
    "\n",
    "df.rename(columns={\n",
    "    'prep_time (in mins)': 'prep_time_in_mins',\n",
    "    'cook_time (in mins)': 'cook_time_in_mins',\n",
    "}, inplace=True)\n",
    "\n",
    "df['ingredients_name'] = df['ingredients_name'].fillna('')\n",
    "df['ingredients_quantity'] = df['ingredients_quantity'].fillna('')\n",
    "\n",
    "df['instruction'] = df['ingredients_name'].apply(lambda x: f'I have the following ingredients: {x}. Please provide recipes I can make with them.')\n",
    "\n",
    "\n",
    "def format_output(row):\n",
    "    output = f\"Recipe Name: {row['name']}\\n\"\n",
    "    output += f\"Cuisine: {row['cuisine']}\\n\"\n",
    "    output += f\"Course: {row['course']}\\n\"\n",
    "    output += f\"Diet: {row['diet']}\\n\"\n",
    "    output += \"Ingredients:\\n\"\n",
    "\n",
    "    ingredient_names = row['ingredients_name'].split(',')\n",
    "    ingredient_quantities = row['ingredients_quantity'].split(',')\n",
    "\n",
    "    for name, qty in zip(ingredient_names, ingredient_quantities):\n",
    "        output += f\"- {name.strip()}: {qty.strip()}\\n\"\n",
    "\n",
    "    output += f\"Preparation Time: {row['prep_time_in_mins']} mins\\n\"\n",
    "    output += f\"Cooking Time: {row['cook_time_in_mins']} mins\\n\"\n",
    "    output += f\"Instructions:\\n{row['instructions']}\\n\"\n",
    "    return output\n",
    "\n",
    "df['output'] = df.apply(format_output, axis=1)\n",
    "\n",
    "df['input'] = ''\n",
    "\n",
    "df = df[['instruction', 'input', 'output']]\n",
    "\n",
    "df.to_csv('processed_dataset.csv', index=False)\n"
   ]
  },
  {
   "cell_type": "code",
   "execution_count": 4,
   "metadata": {},
   "outputs": [
    {
     "data": {
      "text/plain": [
       "0       Recipe Name: Poosanikai Haddu Sweet Curry Reci...\n",
       "1       Recipe Name: Ayam Goreng Kremes Recipe - Indon...\n",
       "2       Recipe Name: One Pot Spinach Macaroni Pasta Re...\n",
       "3       Recipe Name: Dondakkai / Kovakkai Poriyal Reci...\n",
       "4       Recipe Name: Himachal Pahari Style Teliah Mah ...\n",
       "                              ...                        \n",
       "6699    Recipe Name: Kela Anar Raita Recipe  (Banana P...\n",
       "6700    Recipe Name: Strawberry Raita Recipe\\nCuisine:...\n",
       "6701    Recipe Name: Papad Raita Recipe\\nCuisine: Indi...\n",
       "6702    Recipe Name: Carrot Orange Walnut Raita (Fruit...\n",
       "6703    Recipe Name: Vegan Coconut Yogurt Recipe\\nCuis...\n",
       "Name: output, Length: 6704, dtype: object"
      ]
     },
     "execution_count": 4,
     "metadata": {},
     "output_type": "execute_result"
    }
   ],
   "source": [
    "import pandas as pd\n",
    "# 데이터 로드\n",
    "df = pd.read_csv('processed_dataset.csv')\n",
    "\n",
    "# 데이터 개수 확인\n",
    "df['output']"
   ]
  },
  {
   "cell_type": "code",
   "execution_count": null,
   "metadata": {},
   "outputs": [],
   "source": []
  }
 ],
 "metadata": {
  "kernelspec": {
   "display_name": "unsloth_env",
   "language": "python",
   "name": "python3"
  },
  "language_info": {
   "codemirror_mode": {
    "name": "ipython",
    "version": 3
   },
   "file_extension": ".py",
   "mimetype": "text/x-python",
   "name": "python",
   "nbconvert_exporter": "python",
   "pygments_lexer": "ipython3",
   "version": "3.12.4"
  }
 },
 "nbformat": 4,
 "nbformat_minor": 2
}
