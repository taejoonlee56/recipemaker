{
 "cells": [
  {
   "cell_type": "code",
   "execution_count": null,
   "metadata": {
    "colab": {
     "base_uri": "https://localhost:8080/"
    },
    "id": "68gK9HzNOLa1",
    "outputId": "9d3a56ac-0b05-458a-fa64-d2d659c2776d"
   },
   "outputs": [
    {
     "name": "stdout",
     "output_type": "stream",
     "text": [
      "Requirement already satisfied: nltk in /usr/local/lib/python3.10/dist-packages (3.9.1)\n",
      "Requirement already satisfied: click in /usr/local/lib/python3.10/dist-packages (from nltk) (8.1.7)\n",
      "Requirement already satisfied: joblib in /usr/local/lib/python3.10/dist-packages (from nltk) (1.4.2)\n",
      "Requirement already satisfied: regex>=2021.8.3 in /usr/local/lib/python3.10/dist-packages (from nltk) (2024.9.11)\n",
      "Requirement already satisfied: tqdm in /usr/local/lib/python3.10/dist-packages (from nltk) (4.66.6)\n"
     ]
    }
   ],
   "source": [
    "pip install nltk\n"
   ]
  },
  {
   "cell_type": "code",
   "execution_count": null,
   "metadata": {
    "colab": {
     "base_uri": "https://localhost:8080/"
    },
    "id": "L62_d9GkPn2l",
    "outputId": "97d3a191-f887-40f6-dfe2-2bce2e329e04"
   },
   "outputs": [
    {
     "name": "stdout",
     "output_type": "stream",
     "text": [
      "Collecting rouge-score\n",
      "  Downloading rouge_score-0.1.2.tar.gz (17 kB)\n",
      "  Preparing metadata (setup.py) ... \u001b[?25l\u001b[?25hdone\n",
      "Requirement already satisfied: absl-py in /usr/local/lib/python3.10/dist-packages (from rouge-score) (1.4.0)\n",
      "Requirement already satisfied: nltk in /usr/local/lib/python3.10/dist-packages (from rouge-score) (3.9.1)\n",
      "Requirement already satisfied: numpy in /usr/local/lib/python3.10/dist-packages (from rouge-score) (1.26.4)\n",
      "Requirement already satisfied: six>=1.14.0 in /usr/local/lib/python3.10/dist-packages (from rouge-score) (1.16.0)\n",
      "Requirement already satisfied: click in /usr/local/lib/python3.10/dist-packages (from nltk->rouge-score) (8.1.7)\n",
      "Requirement already satisfied: joblib in /usr/local/lib/python3.10/dist-packages (from nltk->rouge-score) (1.4.2)\n",
      "Requirement already satisfied: regex>=2021.8.3 in /usr/local/lib/python3.10/dist-packages (from nltk->rouge-score) (2024.9.11)\n",
      "Requirement already satisfied: tqdm in /usr/local/lib/python3.10/dist-packages (from nltk->rouge-score) (4.66.6)\n",
      "Building wheels for collected packages: rouge-score\n",
      "  Building wheel for rouge-score (setup.py) ... \u001b[?25l\u001b[?25hdone\n",
      "  Created wheel for rouge-score: filename=rouge_score-0.1.2-py3-none-any.whl size=24935 sha256=35652fed33809918c8f67970a10001ed545271629d69eb85507f2ebea752a1f7\n",
      "  Stored in directory: /root/.cache/pip/wheels/5f/dd/89/461065a73be61a532ff8599a28e9beef17985c9e9c31e541b4\n",
      "Successfully built rouge-score\n",
      "Installing collected packages: rouge-score\n",
      "Successfully installed rouge-score-0.1.2\n"
     ]
    }
   ],
   "source": [
    "pip install rouge-score"
   ]
  },
  {
   "cell_type": "code",
   "execution_count": null,
   "metadata": {
    "id": "uMDaHGOsQc9e"
   },
   "outputs": [],
   "source": [
    "#Reference 1\n",
    "ref1=\"Heat ghee in a pan. Add carrot and saute for 5 mins.Add in cardamom, milk and mix well. bring this to a boil.Cover and simmer the pan for 15 mins till the carrot is cooked.Take most of the carrot mixture in a blender and make to a puree.Transfer this to the kadai and mix well. Add sugar and condensed milk and mix well. Simmer this for 5 mins.Serve this chilled or hot.\""
   ]
  },
  {
   "cell_type": "code",
   "execution_count": null,
   "metadata": {
    "id": "9vEhxuyMQ9yr"
   },
   "outputs": [],
   "source": [
    "#Reference 2\n",
    "ref2=\"\tFirst Wash, peel and grate carrot finely. I used 2 carrots that weighed 180 gms in total.\tSide by side, in a sauce pan, bring 2 cups milk to boil. Simmer it until it reduces to 1 cup. Soak almonds for 10-20 mins. Slice thinly and set aside.In another pan, heat ghee. Roast the sliced almonds until nice aroma wafts. Drain from ghee and keep aside. In the same ghee, sautee the carrot in medium flame until it turns pale, dry and soft cooked. Takes 3 mins roughly.Add water, sugar and bring to boil. Do not let it boil for long time. Pour in milk and simmer for 4 mins. Add powdered cardamom and roasted almonds. Mix and switch off flame.\""
   ]
  },
  {
   "cell_type": "code",
   "execution_count": null,
   "metadata": {
    "id": "08GeAjzGRS-c"
   },
   "outputs": [],
   "source": [
    "#Reference 3\n",
    "ref3=\"firstly, in a large kadai heat 1 tbsp and saute 1½ cup carrot. now add 4 cup milk, ¼ tsp saffron and mix well.\tget the milk to boil on medium flame. stir occasionally and boil the milk for 10 minutes or until the milk thickens. add the crumbled khova to milk. also, add ¼ cup sugar and stir well.continue to boil for 10 minutes, or until milk thickens and turns creamy.\tnow add ¼ tsp cardamom powder, fried cashew-raisins and mix well.finally, serve carrot kheer chilled or hot garnished with pistachios.\""
   ]
  },
  {
   "cell_type": "code",
   "execution_count": null,
   "metadata": {
    "id": "a_idMnoCVxV3"
   },
   "outputs": [],
   "source": [
    "#Reference 4\n",
    "ref4=\"Peel the skin of the carrots and roughly chop it. Pressure cook this by adding 1 cup of milk till 4-5 whistles.\tAllow it to cool .\tKeep the milk aside and grind the carrots along with sugar in a blender into a smooth paste. Boil the remaining milk for 15-20 mins in a low flame. Add condensed milk to this. Switch off the flame.\tWhen the milk becomes warm add the carrot puree and the milk which we used for cooking the carrots, to this. Add the saffron strands and mix well Serve chill by garnishing with almond flakes.\""
   ]
  },
  {
   "cell_type": "code",
   "execution_count": null,
   "metadata": {
    "id": "ccJEUJZSSDbB"
   },
   "outputs": [],
   "source": [
    "#Generated recipe\n",
    "generated=\"To begin making Carrot Kheer Recipe, add grated carrots in milk and boil for 20 minutes on medium heat. Now strain the mixture and keep aside.Heat ghee in another pan, once hot add grated cardamom seeds, sugar and stir well to mix until sugar dissolves completely.\tAfter 5-7 minutes, when sugar is cooked slightly, slowly add the boiled carrot milk into this. Cook for about 20-25 minutes or until the Carrot Kheer thickens to your desired consistency.\tTurn off heat and pour it in a serving bowl, let it cool down. Serve Carrot Kheer Recipe with some cookies and biscuits on a festive occasion.\""
   ]
  },
  {
   "cell_type": "code",
   "execution_count": null,
   "metadata": {
    "colab": {
     "base_uri": "https://localhost:8080/"
    },
    "id": "zOE5MAAVR6E1",
    "outputId": "4105426f-e777-4728-d01a-0f8fd090d856"
   },
   "outputs": [
    {
     "name": "stdout",
     "output_type": "stream",
     "text": [
      "{'rouge1': Score(precision=0.40186915887850466, recall=0.5584415584415584, fmeasure=0.467391304347826), 'rouge2': Score(precision=0.0660377358490566, recall=0.09210526315789473, fmeasure=0.07692307692307693), 'rougeL': Score(precision=0.16822429906542055, recall=0.23376623376623376, fmeasure=0.19565217391304346)}\n",
      "{'rouge1': Score(precision=0.4392523364485981, recall=0.3790322580645161, fmeasure=0.4069264069264069), 'rouge2': Score(precision=0.1320754716981132, recall=0.11382113821138211, fmeasure=0.1222707423580786), 'rougeL': Score(precision=0.21495327102803738, recall=0.18548387096774194, fmeasure=0.19913419913419916)}\n",
      "{'rouge1': Score(precision=0.411214953271028, recall=0.4782608695652174, fmeasure=0.44221105527638194), 'rouge2': Score(precision=0.12264150943396226, recall=0.14285714285714285, fmeasure=0.13197969543147206), 'rougeL': Score(precision=0.24299065420560748, recall=0.2826086956521739, fmeasure=0.2613065326633166)}\n",
      "{'rouge1': Score(precision=0.411214953271028, recall=0.43564356435643564, fmeasure=0.4230769230769231), 'rouge2': Score(precision=0.02830188679245283, recall=0.03, fmeasure=0.02912621359223301), 'rougeL': Score(precision=0.19626168224299065, recall=0.2079207920792079, fmeasure=0.2019230769230769)}\n"
     ]
    }
   ],
   "source": [
    "from rouge_score import rouge_scorer\n",
    "\n",
    "# Initialize the scorer\n",
    "scorer = rouge_scorer.RougeScorer(['rouge1', 'rouge2', 'rougeL'], use_stemmer=True)\n",
    "\n",
    "# Calculate scores for individual references\n",
    "scores = scorer.score(ref1, generated)\n",
    "print(scores)\n",
    "scores = scorer.score(ref2, generated)\n",
    "print(scores)\n",
    "scores = scorer.score(ref3, generated)\n",
    "print(scores)\n",
    "scores = scorer.score(ref4, generated)\n",
    "print(scores)\n",
    "\n"
   ]
  },
  {
   "cell_type": "code",
   "execution_count": null,
   "metadata": {
    "colab": {
     "base_uri": "https://localhost:8080/"
    },
    "id": "7Fbr_mAcUmm4",
    "outputId": "e04b6373-fc68-4176-8e9a-2472fb5e7ee3"
   },
   "outputs": [
    {
     "name": "stdout",
     "output_type": "stream",
     "text": [
      "BLEU-1: 0.5288461538461539\n",
      "BLEU-2: 0.28661971120264557\n",
      "BLEU-3: 0.1505440987775047\n",
      "BLEU-4: 0.07515149742053107\n"
     ]
    }
   ],
   "source": [
    "from nltk.translate.bleu_score import sentence_bleu, SmoothingFunction\n",
    "\n",
    "# Reference and hypothesis sentences\n",
    "reference = [ref1.split(),ref2.split(),ref3.split(),ref4.split()]\n",
    "hypothesis = generated.split()\n",
    "\n",
    "# Define smoothing for BLEU scores\n",
    "smooth = SmoothingFunction()\n",
    "\n",
    "# Calculate BLEU scores\n",
    "bleu_1 = sentence_bleu(reference, hypothesis, weights=(1, 0, 0, 0), smoothing_function=smooth.method1)\n",
    "bleu_2 = sentence_bleu(reference, hypothesis, weights=(0.5, 0.5, 0, 0), smoothing_function=smooth.method1)\n",
    "bleu_3 = sentence_bleu(reference, hypothesis, weights=(0.33, 0.33, 0.33, 0), smoothing_function=smooth.method1)\n",
    "bleu_4 = sentence_bleu(reference, hypothesis, weights=(0.25, 0.25, 0.25, 0.25), smoothing_function=smooth.method1)\n",
    "\n",
    "print(f\"BLEU-1: {bleu_1}\")\n",
    "print(f\"BLEU-2: {bleu_2}\")\n",
    "print(f\"BLEU-3: {bleu_3}\")\n",
    "print(f\"BLEU-4: {bleu_4}\")\n"
   ]
  },
  {
   "cell_type": "code",
   "execution_count": null,
   "metadata": {
    "colab": {
     "base_uri": "https://localhost:8080/"
    },
    "id": "MnBxWmmnn0uB",
    "outputId": "0023a66a-8437-4085-d2db-8e9e01caba8c"
   },
   "outputs": [
    {
     "name": "stdout",
     "output_type": "stream",
     "text": [
      "Best ROUGE Scores:\n",
      "rouge1: 0.4674\n",
      "rouge2: 0.1320\n",
      "rougeL: 0.2613\n"
     ]
    }
   ],
   "source": [
    "from rouge_score import rouge_scorer\n",
    "\n",
    "# Candidate text (generated recipe)\n",
    "candidate = generated\n",
    "\n",
    "# Multiple reference texts\n",
    "references = [ref1, ref2, ref3, ref4]\n",
    "\n",
    "# Initialize the ROUGE scorer\n",
    "scorer = rouge_scorer.RougeScorer(['rouge1', 'rouge2', 'rougeL'], use_stemmer=True)\n",
    "\n",
    "# Calculate ROUGE scores for each reference and store the highest score\n",
    "best_scores = {key: 0 for key in ['rouge1', 'rouge2', 'rougeL']}\n",
    "for reference in references:\n",
    "    scores = scorer.score(candidate, reference)\n",
    "    for key in scores:\n",
    "        best_scores[key] = max(best_scores[key], scores[key].fmeasure)\n",
    "\n",
    "# Print the best ROUGE scores\n",
    "print(\"Best ROUGE Scores:\")\n",
    "for key, value in best_scores.items():\n",
    "    print(f\"{key}: {value:.4f}\")\n"
   ]
  }
 ],
 "metadata": {
  "accelerator": "GPU",
  "colab": {
   "gpuType": "T4",
   "provenance": []
  },
  "kernelspec": {
   "display_name": "Python 3",
   "name": "python3"
  },
  "language_info": {
   "name": "python"
  }
 },
 "nbformat": 4,
 "nbformat_minor": 0
}
